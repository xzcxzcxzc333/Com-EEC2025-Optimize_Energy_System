{
 "cells": [
  {
   "cell_type": "markdown",
   "id": "e604a36d",
   "metadata": {},
   "source": [
    "并网状态下——\n",
    "################# Grid_Optimization_Results.xlsx\n",
    "\n",
    " // 帕累托数据 - 第二轮优化 [经济性, 碳排放(吨CO2e), 方案ID]\n",
    "const paretoData = ref([\n",
    "  [0.82, 250, 1],\n",
    "  [0.77, 180, 2],\n",
    "  [0.88, 300, 3],\n",
    "  [0.74, 160, 4],\n",
    "  [0.92, 360, 5],\n",
    "  [0.85, 270, 6],\n",
    "  [0.79, 200, 7],\n",
    "  [0.90, 320, 8],\n",
    "  [0.76, 190, 9],\n",
    "  [0.87, 280, 10],\n",
    "  [0.83, 240, 11],\n",
    "  [0.81, 220, 12],\n",
    "  [0.86, 260, 13],\n",
    "  [0.78, 210, 14],\n",
    "  [0.89, 310, 15]\n",
    " ])\n",
    "###################"
   ]
  },
  {
   "cell_type": "code",
   "execution_count": 29,
   "id": "4d36db51",
   "metadata": {},
   "outputs": [
    {
     "name": "stdout",
     "output_type": "stream",
     "text": [
      "✅ 输出成功： C:\\Users\\86183\\Desktop\\111\\paretoData_output.js\n"
     ]
    }
   ],
   "source": [
    "import pandas as pd\n",
    "import os\n",
    "\n",
    "# 修改为你的本地 Excel 文件路径\n",
    "file_path = r\"C:\\Users\\86183\\Desktop\\111\\Grid_Optimization_Results.xlsx\"\n",
    "\n",
    "# 读取 Excel\n",
    "df = pd.read_excel(file_path)\n",
    "\n",
    "# 只保留有效行（成本和碳排都不为 NaN）\n",
    "df = df.dropna(subset=[df.columns[1], df.columns[2]])\n",
    "\n",
    "# 提取数值列\n",
    "costs = df.iloc[:, 1]\n",
    "emissions_kg = df.iloc[:, 2]\n",
    "\n",
    "# 数据处理\n",
    "normalized_costs = (costs - costs.min()) / (costs.max() - costs.min())\n",
    "emissions_ton = emissions_kg / 1000\n",
    "\n",
    "# 构造数据\n",
    "pareto_data = []\n",
    "for i in range(len(df)):\n",
    "    econ = round(normalized_costs.iloc[i], 3)\n",
    "    try:\n",
    "        co2 = round(emissions_ton.iloc[i], 3)\n",
    "    except:\n",
    "        co2 = 0.000\n",
    "    pareto_data.append([econ, co2, i + 1])\n",
    "\n",
    "# 构造 JS 输出\n",
    "lines = [\n",
    "    \"// 帕累托数据 - 第二轮优化 [经济性, 碳排放(吨CO2e), 方案ID]\",\n",
    "    \"const paretoData = ref([\"\n",
    "]\n",
    "for row in pareto_data:\n",
    "    lines.append(f\"  {row},\")\n",
    "lines[-1] = lines[-1].rstrip(\",\")  # 移除最后一行的逗号\n",
    "lines.append(\"])\")\n",
    "\n",
    "# 保存为 JS 文件\n",
    "output_path = r\"C:\\Users\\86183\\Desktop\\111\\paretoData_output.js\"\n",
    "with open(output_path, \"w\", encoding=\"utf-8\") as f:\n",
    "    f.write(\"\\n\".join(lines))\n",
    "\n",
    "print(\"✅ 输出成功：\", output_path)\n",
    "\n",
    "\n"
   ]
  },
  {
   "cell_type": "markdown",
   "id": "e33c8a47",
   "metadata": {},
   "source": [
    "并网状态下——\n",
    "  const dcData = [0.1,0.1,0.1,0.1,0.1,0.1,0.1,0.1,0.1,0.1,0.1,0.1,0.1,0.1,0.1,0.1,0.1,0.1,0.1,0.1,0.1,0.1,0.1,0.1]\n",
    "  const acData = [0.12,0.12,0.12,0.1,0.1,0.1,0.1,0.1,0.1,0.1,0.1,0.1,0.1,0.1,0.1,0.1,0.1,0.1,0.1,0.1,0.1,0.1,0.1,0.1]"
   ]
  },
  {
   "cell_type": "code",
   "execution_count": null,
   "id": "913883f4",
   "metadata": {},
   "outputs": [
    {
     "name": "stdout",
     "output_type": "stream",
     "text": [
      "✅ dcData 导出成功： C:\\Users\\86183\\Desktop\\111\\dcData_output.js\n",
      "✅ acPvData 导出成功： C:\\Users\\86183\\Desktop\\111\\acPvData_output.js\n",
      "✅ acLoadData 导出成功： C:\\Users\\86183\\Desktop\\111\\acLoadData_output.js\n",
      "✅ dcLoadData 导出成功： C:\\Users\\86183\\Desktop\\111\\dcLoadData_output.js\n"
     ]
    }
   ],
   "source": [
    "import pandas as pd\n",
    "import os\n",
    "\n",
    "# 文件路径\n",
    "folder = r\"C:\\Users\\86183\\Desktop\\111\"\n",
    "file_path1 = os.path.join(folder, \"DC_PV_GC.xlsx\")\n",
    "file_path2 = os.path.join(folder, \"AC_PV_GC.xlsx\")\n",
    "file_path3 = os.path.join(folder, \"AC_Load_GC.xlsx\")\n",
    "file_path4 = os.path.join(folder, \"DC_Load_GC.xlsx\")\n",
    "\n",
    "# 输出JS文件路径和变量名对应关系\n",
    "file_info = [\n",
    "    (file_path1, \"dcPvData\", \"dcData_output.js\"),\n",
    "    (file_path2, \"acPvData\", \"acPvData_output.js\"),\n",
    "    (file_path3, \"acLoadData\", \"acLoadData_output.js\"),\n",
    "    (file_path4, \"dcLoadData\", \"dcLoadData_output.js\"),\n",
    "]\n",
    "\n",
    "# 读取并保存为JS\n",
    "for path, var_name, js_name in file_info:\n",
    "    df = pd.read_excel(path)\n",
    "    data_values = df.iloc[0:24, 1].round(3).tolist()\n",
    "    js_output = f\"const {var_name} = [{', '.join(map(str, data_values))}]\"\n",
    "    output_path = os.path.join(folder, js_name)\n",
    "    with open(output_path, \"w\", encoding=\"utf-8\") as f:\n",
    "        f.write(js_output)\n",
    "    print(f\"✅ {var_name} 导出成功：\", output_path)\n",
    "\n"
   ]
  },
  {
   "cell_type": "code",
   "execution_count": 31,
   "id": "e3f88a4e",
   "metadata": {},
   "outputs": [
    {
     "name": "stdout",
     "output_type": "stream",
     "text": [
      "✅ 导出成功： C:\\Users\\86183\\Desktop\\111\\storageData_output.js\n"
     ]
    }
   ],
   "source": [
    "import pandas as pd\n",
    "import os\n",
    "\n",
    "# 指定本地文件路径\n",
    "file_path_dc = r\"C:\\Users\\86183\\Desktop\\111\\DC_Storage_GC.xlsx\"\n",
    "file_path_ac = r\"C:\\Users\\86183\\Desktop\\111\\AC_Storage_GC.xlsx\"\n",
    "\n",
    "# 读取 Excel 文件（提取前24小时的储能数据，第二列）\n",
    "df_dc = pd.read_excel(file_path_dc)\n",
    "df_ac = pd.read_excel(file_path_ac)\n",
    "\n",
    "# 提取第二列前24行数据，并转换为整数\n",
    "dc_values = df_dc.iloc[0:24, 1].round(0).astype(int).tolist()\n",
    "ac_values = df_ac.iloc[0:24, 1].round(0).astype(int).tolist()\n",
    "\n",
    "# 构建 JS 格式字符串\n",
    "dc_lines = [\n",
    "    \"const dcData = [\",\n",
    "    \"  \" + \", \".join(map(str, dc_values[0:8])) + \",  // 0-7点\",\n",
    "    \"  \" + \", \".join(map(str, dc_values[8:16])) + \",  // 8-15点 充电\",\n",
    "    \"  \" + \", \".join(map(str, dc_values[16:24])) + \"   // 16-23点 放电\",\n",
    "    \"];\"\n",
    "]\n",
    "\n",
    "ac_lines = [\n",
    "    \"const acData = [\",\n",
    "    \"  \" + \", \".join(map(str, ac_values[0:8])) + \",  // 0-7点\",\n",
    "    \"  \" + \", \".join(map(str, ac_values[8:16])) + \",  // 8-15点 充电\",\n",
    "    \"  \" + \", \".join(map(str, ac_values[16:24])) + \"   // 16-23点 放电\",\n",
    "    \"];\"\n",
    "]\n",
    "\n",
    "# 合并结果\n",
    "output_lines = dc_lines + [\"\"] + ac_lines\n",
    "\n",
    "# 输出路径\n",
    "output_path = r\"C:\\Users\\86183\\Desktop\\111\\storageData_output.js\"\n",
    "with open(output_path, \"w\", encoding=\"utf-8\") as f:\n",
    "    f.write(\"\\n\".join(output_lines))\n",
    "\n",
    "print(f\"✅ 导出成功：\", output_path)\n"
   ]
  },
  {
   "cell_type": "markdown",
   "id": "77b381a0",
   "metadata": {},
   "source": [
    "并网状态下"
   ]
  },
  {
   "cell_type": "code",
   "execution_count": 34,
   "id": "09a2626a",
   "metadata": {},
   "outputs": [
    {
     "name": "stdout",
     "output_type": "stream",
     "text": [
      "✅ 导出成功： C:\\Users\\86183\\Desktop\\111\\Grid_Optimization_Results_solutionConfigs_output.js\n"
     ]
    }
   ],
   "source": [
    "import pandas as pd\n",
    "import os\n",
    "\n",
    "# 读取上传的 Excel 文件\n",
    "file_path = r\"C:\\Users\\86183\\Desktop\\111\\Grid_Optimization_Results.xlsx\"\n",
    "df = pd.read_excel(file_path)\n",
    "\n",
    "# 提取容量参数\n",
    "pv_ac = df.iloc[:, 3].round(3)\n",
    "pv_dc = df.iloc[:, 4].round(3)\n",
    "storage_ac = df.iloc[:, 5].round(3)\n",
    "storage_dc = df.iloc[:, 6].round(3)\n",
    "charger_ac = df.iloc[:, 7].round(3)\n",
    "charger_dc = df.iloc[:, 8].round(3)\n",
    "\n",
    "# 固定 economic 参数\n",
    "economic_block = '''\\\n",
    "      economic: {\n",
    "        totalInvestment: 0,\n",
    "        annualOpex: 0,\n",
    "        annualRevenue: 0,\n",
    "        paybackPeriod: 0,\n",
    "        irr: 0,\n",
    "        npv: 0\n",
    "      }'''\n",
    "\n",
    "# 构建 JS 字符串\n",
    "lines = [\"const solutionConfigs: Record<number, any> = {\"]\n",
    "for i in range(len(df)):\n",
    "    lines.append(f\"  {i+1}: {{\")\n",
    "    lines.append(f\"    capacity: {{\")\n",
    "    lines.append(f\"      pv_ac: {pv_ac[i]},\")\n",
    "    lines.append(f\"      pv_dc: {pv_dc[i]},\")\n",
    "    lines.append(f\"      storage_ac: {storage_ac[i]},\")\n",
    "    lines.append(f\"      storage_dc: {storage_dc[i]},\")\n",
    "    lines.append(f\"      charger_ac: {charger_ac[i]},\")\n",
    "    lines.append(f\"      charger_dc: {charger_dc[i]}\")\n",
    "    lines.append(f\"    }},\")\n",
    "    lines.append(economic_block)\n",
    "    lines.append(f\"  }},\")\n",
    "lines[-1] = lines[-1].rstrip(\",\")  # 移除最后一个逗号\n",
    "lines.append(\"}\")\n",
    "\n",
    "# 保存为 JS 文件\n",
    "output_path = r\"C:\\Users\\86183\\Desktop\\111\\Grid_Optimization_Results_solutionConfigs_output.js\"\n",
    "with open(output_path, \"w\", encoding=\"utf-8\") as f:\n",
    "    f.write(\"\\n\".join(lines))\n",
    "\n",
    "print(f\"✅ 导出成功：\", output_path)"
   ]
  },
  {
   "cell_type": "markdown",
   "id": "a8369f23",
   "metadata": {},
   "source": [
    "离网状态下——// 帕累托数据 - 修改为对象格式以匹配ParetoFrontChart组件期望的格式  \n"
   ]
  },
  {
   "cell_type": "code",
   "execution_count": 32,
   "id": "2af42606",
   "metadata": {},
   "outputs": [
    {
     "name": "stdout",
     "output_type": "stream",
     "text": [
      "['方案编号', '年化总成本 (CNY)', '负荷缺电率 (LPSP)', '1 - 光伏消纳率', 'PV_AC 容量 (kW)', 'PV_DC 容量 (kW)', 'EB_AC 容量 (kWh)', 'EB_DC 容量 (kWh)', 'Charger_AC 容量 (kW)', 'Charger_DC 容量 (kW)']\n",
      "✅ 导出成功： C:\\Users\\86183\\Desktop\\111\\paretoData_object_format.js\n"
     ]
    }
   ],
   "source": [
    "import pandas as pd\n",
    "import os\n",
    "\n",
    "# 读取上传的 Excel 文件\n",
    "file_path = r\"C:\\Users\\86183\\Desktop\\111\\Offgrid_Pareto_Results_3D.xlsx\"\n",
    "df = pd.read_excel(file_path)\n",
    "print(df.columns.tolist())\n",
    "\n",
    "# 提取需要的列\n",
    "# 第二列是 economic，第三列是 loadAbandon，第四列是 pvAbandon\n",
    "economic = df[\"年化总成本 (CNY)\"].round(3)\n",
    "load_abandon = df[\"负荷缺电率 (LPSP)\"].round(3)\n",
    "pv_abandon = df[\"1 - 光伏消纳率\"].round(3)\n",
    "\n",
    "\n",
    "# 构建 JS 数据格式\n",
    "lines = [\n",
    "    \"// 帕累托数据 - 修改为对象格式以匹配ParetoFrontChart组件期望的格式\",\n",
    "    \"//加加加\",\n",
    "    \"const paretoData = ref([\"\n",
    "]\n",
    "\n",
    "for i in range(len(df)):\n",
    "    lines.append(\"  {\")\n",
    "    lines.append(f\"    id: {i + 1},\")\n",
    "    lines.append(f\"    economic: {economic[i]},\")\n",
    "    lines.append(f\"    pvAbandon: {pv_abandon[i]},\")\n",
    "    lines.append(f\"    loadAbandon: {load_abandon[i]}\")\n",
    "    lines.append(\"  },\")\n",
    "\n",
    "# 移除最后一个逗号并结束数组\n",
    "lines[-1] = lines[-1].rstrip(\",\")\n",
    "lines.append(\"])\")\n",
    "\n",
    "# 保存为 .js 文件\n",
    "output_path = r\"C:\\Users\\86183\\Desktop\\111\\paretoData_object_format.js\"\n",
    "with open(output_path, \"w\", encoding=\"utf-8\") as f:\n",
    "    f.write(\"\\n\".join(lines))\n",
    "\n",
    "print(f\"✅ 导出成功：\", output_path)\n"
   ]
  },
  {
   "cell_type": "markdown",
   "id": "e6b25f62",
   "metadata": {},
   "source": [
    "离网状态下——"
   ]
  },
  {
   "cell_type": "code",
   "execution_count": null,
   "id": "7028d46e",
   "metadata": {},
   "outputs": [
    {
     "name": "stdout",
     "output_type": "stream",
     "text": [
      "✅ 导出成功： C:\\Users\\86183\\Desktop\\111\\solutionConfigs_output.js\n"
     ]
    }
   ],
   "source": [
    "import pandas as pd\n",
    "import os\n",
    "\n",
    "# 读取上传的 Excel 文件\n",
    "file_path = r\"C:\\Users\\86183\\Desktop\\111\\Offgrid_Pareto_Results_3D.xlsx\"\n",
    "df = pd.read_excel(file_path)\n",
    "\n",
    "# 提取容量参数\n",
    "pv_ac = df.iloc[:, 4].round(3)\n",
    "pv_dc = df.iloc[:, 5].round(3)\n",
    "storage_ac = df.iloc[:, 6].round(3)\n",
    "storage_dc = df.iloc[:, 7].round(3)\n",
    "charger_ac = df.iloc[:, 8].round(3)\n",
    "charger_dc = df.iloc[:, 9].round(3)\n",
    "\n",
    "# 固定 economic 参数\n",
    "economic_block = '''\\\n",
    "      economic: {\n",
    "        totalInvestment: 0,\n",
    "        annualOpex: 0,\n",
    "        annualRevenue: 0,\n",
    "        paybackPeriod: 0,\n",
    "        irr: 0,\n",
    "        npv: 0\n",
    "      }'''\n",
    "\n",
    "# 构建 JS 字符串\n",
    "lines = [\"const solutionConfigs: Record<number, any> = {\"]\n",
    "for i in range(len(df)):\n",
    "    lines.append(f\"  {i+1}: {{\")\n",
    "    lines.append(f\"    capacity: {{\")\n",
    "    lines.append(f\"      pv_ac: {pv_ac[i]},\")\n",
    "    lines.append(f\"      pv_dc: {pv_dc[i]},\")\n",
    "    lines.append(f\"      storage_ac: {storage_ac[i]},\")\n",
    "    lines.append(f\"      storage_dc: {storage_dc[i]},\")\n",
    "    lines.append(f\"      charger_ac: {charger_ac[i]},\")\n",
    "    lines.append(f\"      charger_dc: {charger_dc[i]}\")\n",
    "    lines.append(f\"    }},\")\n",
    "    lines.append(economic_block)\n",
    "    lines.append(f\"  }},\")\n",
    "lines[-1] = lines[-1].rstrip(\",\")  # 移除最后一个逗号\n",
    "lines.append(\"}\")\n",
    "\n",
    "# 保存为 JS 文件\n",
    "output_path = r\"C:\\Users\\86183\\Desktop\\111\\Offgrid_Pareto_Results_solutionConfigs_output.js\"\n",
    "with open(output_path, \"w\", encoding=\"utf-8\") as f:\n",
    "    f.write(\"\\n\".join(lines))\n",
    "\n",
    "print(f\"✅ 导出成功：\", output_path)\n"
   ]
  }
 ],
 "metadata": {
  "kernelspec": {
   "display_name": "Python 3",
   "language": "python",
   "name": "python3"
  },
  "language_info": {
   "codemirror_mode": {
    "name": "ipython",
    "version": 3
   },
   "file_extension": ".py",
   "mimetype": "text/x-python",
   "name": "python",
   "nbconvert_exporter": "python",
   "pygments_lexer": "ipython3",
   "version": "3.11.0"
  }
 },
 "nbformat": 4,
 "nbformat_minor": 5
}
